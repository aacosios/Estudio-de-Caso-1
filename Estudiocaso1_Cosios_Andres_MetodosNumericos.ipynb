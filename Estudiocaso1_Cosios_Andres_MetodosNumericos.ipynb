{
 "cells": [
  {
   "cell_type": "markdown",
   "id": "8c680dbc",
   "metadata": {},
   "source": [
    "# Universidad de las Fuerzas Armadas ESPE\n",
    "\n",
    "## Andrés Cosios Pineda\n",
    "\n",
    "## Estudio de Caso"
   ]
  },
  {
   "cell_type": "markdown",
   "id": "84a66c5d",
   "metadata": {},
   "source": [
    "### 1. En el libro Numerical Mathematics and Computing de Cheney y Kincaid, observe el ejercicio 4, literal a de la página 288 (el libro se encuentra en el enlace proporcionado en la sección Sitios).\n",
    "### Use procedure Tri to solve the following system of 100 equations. Compare the numerical solution to the obvious exact solution.\n",
    "### $x_1+0.5x_2=1.5$\n",
    "### $0.5x_{i-1}+x_i+0.5x_{i+1}=2.0$\n",
    "### $0.5x_{99}+x_{100}=1.5$\n",
    "###        $ (2<=i<=99)$"
   ]
  },
  {
   "cell_type": "markdown",
   "id": "3a02cc5e",
   "metadata": {},
   "source": [
    "### 2. Utilice el siguiente código para resolver el ejercicio (utilizando un sistema de cien ecuaciones y cien incógnitas). El código es del mismo libro. \n",
    "![](metodos.jpg)\n"
   ]
  },
  {
   "cell_type": "code",
   "execution_count": 4,
   "id": "5d3cd7e6",
   "metadata": {},
   "outputs": [
    {
     "name": "stdout",
     "output_type": "stream",
     "text": [
      "[1.         0.75       0.66666667 0.625      0.6        0.58333333\n",
      " 0.57142857 0.5625     0.55555556 0.55       0.54545455 0.54166667\n",
      " 0.53846154 0.53571429 0.53333333 0.53125    0.52941176 0.52777778\n",
      " 0.52631579 0.525      0.52380952 0.52272727 0.52173913 0.52083333\n",
      " 0.52       0.51923077 0.51851852 0.51785714 0.51724138 0.51666667\n",
      " 0.51612903 0.515625   0.51515152 0.51470588 0.51428571 0.51388889\n",
      " 0.51351351 0.51315789 0.51282051 0.5125     0.51219512 0.51190476\n",
      " 0.51162791 0.51136364 0.51111111 0.51086957 0.5106383  0.51041667\n",
      " 0.51020408 0.51       0.50980392 0.50961538 0.50943396 0.50925926\n",
      " 0.50909091 0.50892857 0.50877193 0.50862069 0.50847458 0.50833333\n",
      " 0.50819672 0.50806452 0.50793651 0.5078125  0.50769231 0.50757576\n",
      " 0.50746269 0.50735294 0.50724638 0.50714286 0.50704225 0.50694444\n",
      " 0.50684932 0.50675676 0.50666667 0.50657895 0.50649351 0.50641026\n",
      " 0.50632911 0.50625    0.50617284 0.50609756 0.5060241  0.50595238\n",
      " 0.50588235 0.50581395 0.50574713 0.50568182 0.50561798 0.50555556\n",
      " 0.50549451 0.50543478 0.50537634 0.50531915 0.50526316 0.50520833\n",
      " 0.50515464 0.50510204 0.50505051 1.        ]\n"
     ]
    },
    {
     "data": {
      "text/plain": [
       "array([0.995, 1.01 , 0.985, 1.02 , 0.975, 1.03 , 0.965, 1.04 , 0.955,\n",
       "       1.05 , 0.945, 1.06 , 0.935, 1.07 , 0.925, 1.08 , 0.915, 1.09 ,\n",
       "       0.905, 1.1  , 0.895, 1.11 , 0.885, 1.12 , 0.875, 1.13 , 0.865,\n",
       "       1.14 , 0.855, 1.15 , 0.845, 1.16 , 0.835, 1.17 , 0.825, 1.18 ,\n",
       "       0.815, 1.19 , 0.805, 1.2  , 0.795, 1.21 , 0.785, 1.22 , 0.775,\n",
       "       1.23 , 0.765, 1.24 , 0.755, 1.25 , 0.745, 1.26 , 0.735, 1.27 ,\n",
       "       0.725, 1.28 , 0.715, 1.29 , 0.705, 1.3  , 0.695, 1.31 , 0.685,\n",
       "       1.32 , 0.675, 1.33 , 0.665, 1.34 , 0.655, 1.35 , 0.645, 1.36 ,\n",
       "       0.635, 1.37 , 0.625, 1.38 , 0.615, 1.39 , 0.605, 1.4  , 0.595,\n",
       "       1.41 , 0.585, 1.42 , 0.575, 1.43 , 0.565, 1.44 , 0.555, 1.45 ,\n",
       "       0.545, 1.46 , 0.535, 1.47 , 0.525, 1.48 , 0.515, 1.49 , 0.505,\n",
       "       1.5  ])"
      ]
     },
     "execution_count": 4,
     "metadata": {},
     "output_type": "execute_result"
    }
   ],
   "source": [
    "import numpy as np\n",
    "# creamos las matrices\n",
    "# vector diagonal\n",
    "d=np.array([1., 1., 1., 1., 1., 1., 1., 1., 1., 1.,\n",
    "            1., 1., 1., 1., 1., 1., 1., 1., 1., 1.,\n",
    "            1., 1., 1., 1., 1., 1., 1., 1., 1., 1.,\n",
    "            1., 1., 1., 1., 1., 1., 1., 1., 1., 1.,\n",
    "            1., 1., 1., 1., 1., 1., 1., 1., 1., 1.,\n",
    "            1., 1., 1., 1., 1., 1., 1., 1., 1., 1.,\n",
    "            1., 1., 1., 1., 1., 1., 1., 1., 1., 1.,\n",
    "            1., 1., 1., 1., 1., 1., 1., 1., 1., 1.,\n",
    "            1., 1., 1., 1., 1., 1., 1., 1., 1., 1.,\n",
    "            1., 1., 1., 1., 1., 1., 1., 1., 1., 1.])\n",
    "# vector Subdiagonal\n",
    "a=np.array([0.5, 0.5, 0.5, 0.5, 0.5, 0.5, 0.5, 0.5, 0.5, 0.5,\n",
    "            0.5, 0.5, 0.5, 0.5, 0.5, 0.5, 0.5, 0.5, 0.5, 0.5,\n",
    "            0.5, 0.5, 0.5, 0.5, 0.5, 0.5, 0.5, 0.5, 0.5, 0.5,\n",
    "            0.5, 0.5, 0.5, 0.5, 0.5, 0.5, 0.5, 0.5, 0.5, 0.5,\n",
    "            0.5, 0.5, 0.5, 0.5, 0.5, 0.5, 0.5, 0.5, 0.5, 0.5,\n",
    "            0.5, 0.5, 0.5, 0.5, 0.5, 0.5, 0.5, 0.5, 0.5, 0.5,\n",
    "            0.5, 0.5, 0.5, 0.5, 0.5, 0.5, 0.5, 0.5, 0.5, 0.5,\n",
    "            0.5, 0.5, 0.5, 0.5, 0.5, 0.5, 0.5, 0.5, 0.5, 0.5,\n",
    "            0.5, 0.5, 0.5, 0.5, 0.5, 0.5, 0.5, 0.5, 0.5, 0.5,\n",
    "            0.5, 0.5, 0.5, 0.5, 0.5, 0.5, 0.5, 0.5, 0.5])\n",
    "# Vector superdiagonal\n",
    "c=np.array([0.5, 0.5, 0.5, 0.5, 0.5, 0.5, 0.5, 0.5, 0.5, 0.5,\n",
    "            0.5, 0.5, 0.5, 0.5, 0.5, 0.5, 0.5, 0.5, 0.5, 0.5,\n",
    "            0.5, 0.5, 0.5, 0.5, 0.5, 0.5, 0.5, 0.5, 0.5, 0.5,\n",
    "            0.5, 0.5, 0.5, 0.5, 0.5, 0.5, 0.5, 0.5, 0.5, 0.5,\n",
    "            0.5, 0.5, 0.5, 0.5, 0.5, 0.5, 0.5, 0.5, 0.5, 0.5,\n",
    "            0.5, 0.5, 0.5, 0.5, 0.5, 0.5, 0.5, 0.5, 0.5, 0.5,\n",
    "            0.5, 0.5, 0.5, 0.5, 0.5, 0.5, 0.5, 0.5, 0.5, 0.5,\n",
    "            0.5, 0.5, 0.5, 0.5, 0.5, 0.5, 0.5, 0.5, 0.5, 0.5,\n",
    "            0.5, 0.5, 0.5, 0.5, 0.5, 0.5, 0.5, 0.5, 0.5, 0.5,\n",
    "            0.5, 0.5, 0.5, 0.5, 0.5, 0.5, 0.5, 0.5, 0.5])\n",
    "# vector de terminos independientes\n",
    "b=np.array([1.5, 2., 2., 2., 2., 2., 2., 2., 2., 2.,\n",
    "           2., 2., 2., 2., 2., 2., 2., 2., 2., 2.,\n",
    "           2., 2., 2., 2., 2., 2., 2., 2., 2., 2.,\n",
    "           2., 2., 2., 2., 2., 2., 2., 2., 2., 2.,\n",
    "           2., 2., 2., 2., 2., 2., 2., 2., 2., 2.,\n",
    "           2., 2., 2., 2., 2., 2., 2., 2., 2., 2.,\n",
    "           2., 2., 2., 2., 2., 2., 2., 2., 2., 2.,\n",
    "           2., 2., 2., 2., 2., 2., 2., 2., 2., 2.,\n",
    "           2., 2., 2., 2., 2., 2., 2., 2., 2., 2.,\n",
    "           2., 2., 2., 2., 2., 2., 2., 2., 2., 1.5])\n",
    "n=100\n",
    "\n",
    "def tridiag(n,d,a,c,b):\n",
    "    x=np.zeros(n)\n",
    "    for i in range (1, n-1):\n",
    "        mult=a[i-1]/d[i-1]\n",
    "        d[i]-=mult*c[i-1]\n",
    "        b[i]-=mult*b[i-1]\n",
    "    print \n",
    "    print(d)\n",
    "    x[n-1]=b[n-1]/d[n-1]\n",
    "    for i in range(n-2,-1,-1):\n",
    "        x[i]=(b[i]-c[i]*x[i+1])/d[i]\n",
    "    return x\n",
    "tridiag(n,d,a,c,b)"
   ]
  },
  {
   "cell_type": "markdown",
   "id": "6cffd218",
   "metadata": {},
   "source": [
    "### 3. Resuelva el sistema de ecuaciones de manera manual y compare los resultados. Concluya lo que sucede en este caso. Puede observar la solución al ejercicio en el libro.\n",
    "\n",
    "### tenemos que una matriz tridiagonal es de la siguiente forma:\n",
    "\n",
    "![](trid.jpg)\n",
    "### vamos a despejar dos ecuaciones para determinar el valor de la matriz diagonal $d_1$\n",
    "### $x_i+0.5x_{i+1}=1.5$\n",
    "#### Despejamos  $x_1$ en la primera ecuación\n",
    "### $x_i=1.5-0.5x_{i+1}$\n",
    "#### Despejamos  $x_1$ en la segunda ecuación\n",
    "### $0.5x_{i-1}+x_i+0.5x_{i+1}=2.0$\n",
    "### $x_i=2-0.5x{i+1}-0.5x{i-1}$\n",
    "#### Igualamos las ecuaciones\n",
    "### $1.5-0.5x_{i+1}=2-0.5x{i+1}-0.5x{i-1}$\n",
    "#### Obtenemos que $x_1=1$, por tanto $d=1$\n",
    "### Determinamos el termino independiente de la primera interaccion i=1\n",
    "### $\\widehat{d}=\\frac{b_1}{d_1}=\\frac{1.5}{1}=1.5$\n",
    "### Realizaremos dos iteracciones mas\n",
    "### a partir de estas itercacciones utilizaremos las siguientes formulas\n",
    "### $ \\widehat{d_i}=d_i-\\frac{a_{i-1}}{d_{i-1}}*(c_{i-1})$\n",
    "### $ \\widehat{b_i}=b_i-\\frac{a_{i-1}}{d_{i-1}}*(b_{i-1})$\n",
    "### con: $i=2$\n",
    "### $a_1=0.5, d_1=1, c_1=0.5, b_1=1.5$\n",
    "### $ \\widehat{d_2}=d_2-\\frac{a_1}{d_1}*(c_1)=1-\\frac{0.5}{1}*0.5=0.75$\n",
    "### $ \\widehat{b_2}=b_2-\\frac{a_1}{d_1}*(b_1)=2-\\frac{0.5}{1}*1.5=1.25$\n",
    "### con: $i=3$\n",
    "### $a_2=0.5, d_2=0.75, c_2=0.5, b_2=2$\n",
    "### $ \\widehat{d_3}=d_3-\\frac{a_2}{d_2}*(c_2)=1-\\frac{0.5}{0.75}*0.5=0.666$\n",
    "### $ \\widehat{b_3}=b_3-\\frac{a_2}{d_2}*(b_2)=2-\\frac{0.5}{0.75}*1.25=1.166$"
   ]
  },
  {
   "cell_type": "markdown",
   "id": "aaf33d89",
   "metadata": {},
   "source": [
    "### Concluciones\n",
    "\n",
    "#### Para poder comparar el funcionamiento del algoritmo indicado en la actividad se procedio con la realizacion manual de tres iteracciones las cuales coinciden con los resultados obtenidos en el programa desarollado en Python observando que con la implemntacion de unas lineas de codigo podemos obtener todas las iteracciones posibles simplemente modificando los parametros del mismo.\n",
    "\n",
    "### Link Github\n",
    "#### https://github.com/aacosios/Estudio-de-Caso-1.git"
   ]
  }
 ],
 "metadata": {
  "kernelspec": {
   "display_name": "Python 3",
   "language": "python",
   "name": "python3"
  },
  "language_info": {
   "codemirror_mode": {
    "name": "ipython",
    "version": 3
   },
   "file_extension": ".py",
   "mimetype": "text/x-python",
   "name": "python",
   "nbconvert_exporter": "python",
   "pygments_lexer": "ipython3",
   "version": "3.8.8"
  }
 },
 "nbformat": 4,
 "nbformat_minor": 5
}
